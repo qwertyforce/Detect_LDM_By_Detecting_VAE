{
 "cells": [
  {
   "cell_type": "code",
   "execution_count": 4,
   "metadata": {},
   "outputs": [],
   "source": [
    "import torch\n",
    "from PIL import Image\n",
    "from torchvision import transforms\n",
    "Image.MAX_IMAGE_PIXELS = None\n",
    "\n",
    "def read_img_file(f):\n",
    "    img = Image.open(f)\n",
    "    if img.mode != 'RGB':\n",
    "        img = img.convert('RGB')\n",
    "    return img\n",
    "\n",
    "_transform_test_random=transforms.Compose([\n",
    "        transforms.RandomCrop((256,256)),\n",
    "        transforms.ToTensor(),\n",
    "        transforms.Normalize((0.485, 0.456, 0.406), (0.229, 0.224, 0.225))])\n",
    "\n",
    "_transform_test_random_vit = transforms.Compose([\n",
    "        transforms.RandomCrop((252,252)),\n",
    "        transforms.ToTensor(),\n",
    "        transforms.Normalize((0.485, 0.456, 0.406), (0.229, 0.224, 0.225))])"
   ]
  },
  {
   "cell_type": "code",
   "execution_count": 5,
   "metadata": {},
   "outputs": [],
   "source": [
    "model_type = \"eva\" # convnext effnet\n",
    "\n",
    "if model_type==\"eva\":\n",
    "    _transform = _transform_test_random_vit\n",
    "    model = torch.load(\"./models/model_eva.pth\")\n",
    "elif model_type==\"convnext\":\n",
    "    _transform = _transform_test_random\n",
    "    model = torch.load(\"./models/model_convnext.pth\")\n",
    "else:\n",
    "    _transform = _transform_test_random\n",
    "    model = torch.load(\"./models/model_effnet.pth\")\n",
    "model = model.eval()"
   ]
  },
  {
   "cell_type": "code",
   "execution_count": 6,
   "metadata": {},
   "outputs": [
    {
     "name": "stdout",
     "output_type": "stream",
     "text": [
      "[0.9999869, 0.9999893, 0.99989045, 0.99998987, 0.99998975, 0.9999895, 0.9999901, 0.99999, 0.99993503, 0.99998915]\n",
      "10 try method:  0.999974\n",
      "1 try method:  [[0.9895235]]\n"
     ]
    }
   ],
   "source": [
    "from statistics import mean\n",
    "\n",
    "# 10 try method\n",
    "with torch.inference_mode():\n",
    "    img = read_img_file('./test.jpg')\n",
    "    with torch.inference_mode():\n",
    "        tmp=[]\n",
    "        for _ in range(10):\n",
    "            img_random_crop = _transform(img).cuda()\n",
    "            outputs = model.forward(img_random_crop.unsqueeze(0))\n",
    "            outputs = torch.sigmoid(outputs).cpu().numpy()\n",
    "            tmp.append(outputs[0][0])\n",
    "        print(tmp)\n",
    "        print(\"10 try method: \", mean(tmp))\n",
    "\n",
    "#1 try method\n",
    "with torch.inference_mode():\n",
    "    img = read_img_file('./test.jpg')\n",
    "    with torch.inference_mode():\n",
    "        img_crop = _transform(img).cuda()\n",
    "        outputs = model.forward(img_crop.unsqueeze(0))\n",
    "        outputs = torch.sigmoid(outputs).cpu().numpy()\n",
    "        print(\"1 try method: \",outputs)"
   ]
  }
 ],
 "metadata": {
  "kernelspec": {
   "display_name": "Python 3",
   "language": "python",
   "name": "python3"
  },
  "language_info": {
   "codemirror_mode": {
    "name": "ipython",
    "version": 3
   },
   "file_extension": ".py",
   "mimetype": "text/x-python",
   "name": "python",
   "nbconvert_exporter": "python",
   "pygments_lexer": "ipython3",
   "version": "3.10.13"
  },
  "orig_nbformat": 4
 },
 "nbformat": 4,
 "nbformat_minor": 2
}
